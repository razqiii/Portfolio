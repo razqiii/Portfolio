{
 "cells": [
  {
   "cell_type": "code",
   "execution_count": 1,
   "metadata": {},
   "outputs": [
    {
     "name": "stdout",
     "output_type": "stream",
     "text": [
      "         Date       Ticker    Adj Close        Close         High  \\\n",
      "0  2023-07-03  HDFCBANK.NS  1696.631836  1719.800049  1757.500000   \n",
      "1  2023-07-03      INFY.NS  1309.278564  1333.699951  1346.000000   \n",
      "2  2023-07-03  RELIANCE.NS  2405.791992  2414.290283  2420.105225   \n",
      "3  2023-07-03       TCS.NS  3216.993164  3272.300049  3318.800049   \n",
      "4  2023-07-04  HDFCBANK.NS  1704.918579  1728.199951  1747.000000   \n",
      "\n",
      "           Low         Open      Volume  \n",
      "0  1710.000000  1712.500000  22052058.0  \n",
      "1  1328.449951  1330.000000   7732412.0  \n",
      "2  2358.587158  2361.079346   6077193.0  \n",
      "3  3268.750000  3314.300049   1687264.0  \n",
      "4  1713.800049  1723.449951  19397594.0  \n"
     ]
    }
   ],
   "source": [
    "import pandas as pd\n",
    "\n",
    "# Use raw string (r\"\") to prevent escape sequences\n",
    "file_path = r\"C:\\Users\\DESKTOP\\Documents\\recruits\\portoogoods\\stock_market_analysis\\stock_data.csv\"\n",
    "\n",
    "# Read the CSV file\n",
    "food_orders = pd.read_csv(file_path)\n",
    "\n",
    "# Print the first 5 rows\n",
    "print(food_orders.head())\n"
   ]
  },
  {
   "cell_type": "code",
   "execution_count": 2,
   "metadata": {},
   "outputs": [
    {
     "name": "stderr",
     "output_type": "stream",
     "text": [
      "\n",
      "4 Failed downloads:\n",
      "['TCS.BO', 'HDFCBANK.NS', 'INFY.NS', 'RELIANCE.NS']: YFRateLimitError('Too Many Requests. Rate limited. Try after a while.')\n"
     ]
    },
    {
     "ename": "ValueError",
     "evalue": "❌ No valid stock data retrieved. Please check ticker symbols!",
     "output_type": "error",
     "traceback": [
      "\u001b[1;31m---------------------------------------------------------------------------\u001b[0m",
      "\u001b[1;31mValueError\u001b[0m                                Traceback (most recent call last)",
      "Cell \u001b[1;32mIn[2], line 22\u001b[0m\n\u001b[0;32m     20\u001b[0m \u001b[38;5;66;03m# Check if any data is available before proceeding\u001b[39;00m\n\u001b[0;32m     21\u001b[0m \u001b[38;5;28;01mif\u001b[39;00m data\u001b[38;5;241m.\u001b[39mempty:\n\u001b[1;32m---> 22\u001b[0m     \u001b[38;5;28;01mraise\u001b[39;00m \u001b[38;5;167;01mValueError\u001b[39;00m(\u001b[38;5;124m\"\u001b[39m\u001b[38;5;124m❌ No valid stock data retrieved. Please check ticker symbols!\u001b[39m\u001b[38;5;124m\"\u001b[39m)\n\u001b[0;32m     24\u001b[0m \u001b[38;5;66;03m# Reset index and rename 'Date' column\u001b[39;00m\n\u001b[0;32m     25\u001b[0m data \u001b[38;5;241m=\u001b[39m data\u001b[38;5;241m.\u001b[39mreset_index()\n",
      "\u001b[1;31mValueError\u001b[0m: ❌ No valid stock data retrieved. Please check ticker symbols!"
     ]
    }
   ],
   "source": [
    "import pandas as pd\n",
    "import yfinance as yf\n",
    "from datetime import date, timedelta\n",
    "\n",
    "# Define the time period for the data\n",
    "end_date = date.today().strftime(\"%Y-%m-%d\")\n",
    "start_date = (date.today() - timedelta(days=365)).strftime(\"%Y-%m-%d\")\n",
    "\n",
    "# List of stock tickers\n",
    "tickers = ['RELIANCE.NS', 'TCS.BO', 'INFY.NS', 'HDFCBANK.NS']\n",
    "\n",
    "# Download data with error handling\n",
    "data = yf.download(tickers, start=start_date, end=end_date, progress=False)\n",
    "\n",
    "# 🚀 DEBUG: Check missing tickers\n",
    "for ticker in tickers:\n",
    "    if ticker not in data.columns.get_level_values(1):\n",
    "        print(f\"⚠️ Warning: No data found for {ticker}\")\n",
    "\n",
    "# Check if any data is available before proceeding\n",
    "if data.empty:\n",
    "    raise ValueError(\"❌ No valid stock data retrieved. Please check ticker symbols!\")\n",
    "\n",
    "# Reset index and rename 'Date' column\n",
    "data = data.reset_index()\n",
    "if 'index' in data.columns:\n",
    "    data.rename(columns={'index': 'Date'}, inplace=True)\n",
    "\n",
    "# 🚀 DEBUG: Print column names\n",
    "print(\"Columns in DataFrame after resetting index:\", data.columns)\n",
    "\n",
    "# Ensure 'Date' exists before melting\n",
    "if 'Date' not in data.columns:\n",
    "    raise KeyError(\"❌ 'Date' column is missing. Please check dataset structure.\")\n",
    "\n",
    "# Melt and pivot\n",
    "data_melted = data.melt(id_vars=['Date'], var_name=['Attribute', 'Ticker'])\n",
    "data_pivoted = data_melted.pivot_table(index=['Date', 'Ticker'], columns='Attribute', values='value', aggfunc='first')\n",
    "\n",
    "# Reset index to turn multi-index into columns\n",
    "stock_data = data_pivoted.reset_index()\n",
    "\n",
    "print(stock_data.head())\n"
   ]
  },
  {
   "cell_type": "code",
   "execution_count": null,
   "metadata": {},
   "outputs": [],
   "source": []
  },
  {
   "cell_type": "code",
   "execution_count": null,
   "metadata": {},
   "outputs": [],
   "source": []
  },
  {
   "cell_type": "code",
   "execution_count": null,
   "metadata": {},
   "outputs": [],
   "source": []
  },
  {
   "cell_type": "code",
   "execution_count": null,
   "metadata": {},
   "outputs": [],
   "source": []
  },
  {
   "cell_type": "code",
   "execution_count": null,
   "metadata": {},
   "outputs": [],
   "source": []
  },
  {
   "cell_type": "code",
   "execution_count": null,
   "metadata": {},
   "outputs": [],
   "source": []
  }
 ],
 "metadata": {
  "kernelspec": {
   "display_name": "Python 3",
   "language": "python",
   "name": "python3"
  },
  "language_info": {
   "codemirror_mode": {
    "name": "ipython",
    "version": 3
   },
   "file_extension": ".py",
   "mimetype": "text/x-python",
   "name": "python",
   "nbconvert_exporter": "python",
   "pygments_lexer": "ipython3",
   "version": "3.11.4"
  }
 },
 "nbformat": 4,
 "nbformat_minor": 2
}
